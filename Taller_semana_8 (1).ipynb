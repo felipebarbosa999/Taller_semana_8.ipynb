{
  "cells": [
    {
      "cell_type": "markdown",
      "metadata": {
        "id": "QZ6XziVD76Jw"
      },
      "source": [
        "<h1 align=\"center\">Taller - Instrucciones repetitivas en Python</h1>\n",
        "\n",
        "Desarrolle la solucion a los siguientes problemas en Python, usando funciones y el programa correspondiente\n",
        "\n",
        "---"
      ]
    },
    {
      "cell_type": "markdown",
      "metadata": {
        "id": "uJJp2xk076J1"
      },
      "source": [
        "## Ejercicio 01\n",
        "\n",
        "Una librería ofrece dos tipos de descuentos ante la compra de un libro. Si el libro tiene un precio inferior a cien mil pesos, el descuento es del 12% del precio; pero en cualquier otro caso, el descuento asciende a un 18%.\n",
        "\n",
        "* Escriba una función que halle el precio neto de un libro (precio menos descuento) de un libro, dado el precio del libro.\n",
        "* Ahora, escriba un programa que permita leer el precio de varios libros (finalizar cuando el precio es cero o negativo) y mostrar para cada libro, el precio neto (usando la función desarrollada anteriormente)"
      ]
    },
    {
      "cell_type": "code",
      "execution_count": 13,
      "metadata": {
        "id": "58mamZV176J2",
        "colab": {
          "base_uri": "https://localhost:8080/",
          "height": 391
        },
        "collapsed": true,
        "outputId": "9750b2ab-2f3f-4205-ec13-c50ca33e04e3"
      },
      "outputs": [
        {
          "metadata": {
            "tags": null
          },
          "name": "stdout",
          "output_type": "stream",
          "text": [
            "el precio neto es:  820000.0\n",
            "el precio neto es:  455555.1\n",
            "el precio neto es:  16400000.0\n",
            "el precio neto es:  8200000.0\n"
          ]
        },
        {
          "output_type": "error",
          "ename": "KeyboardInterrupt",
          "evalue": "Interrupted by user",
          "traceback": [
            "\u001b[0;31m---------------------------------------------------------------------------\u001b[0m",
            "\u001b[0;31mKeyboardInterrupt\u001b[0m                         Traceback (most recent call last)",
            "\u001b[0;32m<ipython-input-13-4ba08cb6788d>\u001b[0m in \u001b[0;36m<cell line: 0>\u001b[0;34m()\u001b[0m\n\u001b[1;32m     11\u001b[0m   \u001b[0mprecio_neto\u001b[0m\u001b[0;34m=\u001b[0m\u001b[0mhllar_precio_neto\u001b[0m\u001b[0;34m(\u001b[0m\u001b[0mprecio_libro\u001b[0m\u001b[0;34m)\u001b[0m\u001b[0;34m\u001b[0m\u001b[0;34m\u001b[0m\u001b[0m\n\u001b[1;32m     12\u001b[0m   \u001b[0mprint\u001b[0m\u001b[0;34m(\u001b[0m\u001b[0;34m\"el precio neto es: \"\u001b[0m\u001b[0;34m,\u001b[0m\u001b[0mprecio_neto\u001b[0m\u001b[0;34m)\u001b[0m\u001b[0;34m\u001b[0m\u001b[0;34m\u001b[0m\u001b[0m\n\u001b[0;32m---> 13\u001b[0;31m   \u001b[0mprecio_libro\u001b[0m\u001b[0;34m=\u001b[0m\u001b[0mfloat\u001b[0m\u001b[0;34m(\u001b[0m\u001b[0minput\u001b[0m\u001b[0;34m(\u001b[0m\u001b[0;34m\"ingrese precio del libro:\"\u001b[0m\u001b[0;34m)\u001b[0m\u001b[0;34m)\u001b[0m\u001b[0;34m\u001b[0m\u001b[0;34m\u001b[0m\u001b[0m\n\u001b[0m",
            "\u001b[0;32m/usr/local/lib/python3.11/dist-packages/ipykernel/kernelbase.py\u001b[0m in \u001b[0;36mraw_input\u001b[0;34m(self, prompt)\u001b[0m\n\u001b[1;32m   1175\u001b[0m                 \u001b[0;34m\"raw_input was called, but this frontend does not support input requests.\"\u001b[0m\u001b[0;34m\u001b[0m\u001b[0;34m\u001b[0m\u001b[0m\n\u001b[1;32m   1176\u001b[0m             )\n\u001b[0;32m-> 1177\u001b[0;31m         return self._input_request(\n\u001b[0m\u001b[1;32m   1178\u001b[0m             \u001b[0mstr\u001b[0m\u001b[0;34m(\u001b[0m\u001b[0mprompt\u001b[0m\u001b[0;34m)\u001b[0m\u001b[0;34m,\u001b[0m\u001b[0;34m\u001b[0m\u001b[0;34m\u001b[0m\u001b[0m\n\u001b[1;32m   1179\u001b[0m             \u001b[0mself\u001b[0m\u001b[0;34m.\u001b[0m\u001b[0m_parent_ident\u001b[0m\u001b[0;34m[\u001b[0m\u001b[0;34m\"shell\"\u001b[0m\u001b[0;34m]\u001b[0m\u001b[0;34m,\u001b[0m\u001b[0;34m\u001b[0m\u001b[0;34m\u001b[0m\u001b[0m\n",
            "\u001b[0;32m/usr/local/lib/python3.11/dist-packages/ipykernel/kernelbase.py\u001b[0m in \u001b[0;36m_input_request\u001b[0;34m(self, prompt, ident, parent, password)\u001b[0m\n\u001b[1;32m   1217\u001b[0m             \u001b[0;32mexcept\u001b[0m \u001b[0mKeyboardInterrupt\u001b[0m\u001b[0;34m:\u001b[0m\u001b[0;34m\u001b[0m\u001b[0;34m\u001b[0m\u001b[0m\n\u001b[1;32m   1218\u001b[0m                 \u001b[0;31m# re-raise KeyboardInterrupt, to truncate traceback\u001b[0m\u001b[0;34m\u001b[0m\u001b[0;34m\u001b[0m\u001b[0m\n\u001b[0;32m-> 1219\u001b[0;31m                 \u001b[0;32mraise\u001b[0m \u001b[0mKeyboardInterrupt\u001b[0m\u001b[0;34m(\u001b[0m\u001b[0;34m\"Interrupted by user\"\u001b[0m\u001b[0;34m)\u001b[0m \u001b[0;32mfrom\u001b[0m \u001b[0;32mNone\u001b[0m\u001b[0;34m\u001b[0m\u001b[0;34m\u001b[0m\u001b[0m\n\u001b[0m\u001b[1;32m   1220\u001b[0m             \u001b[0;32mexcept\u001b[0m \u001b[0mException\u001b[0m\u001b[0;34m:\u001b[0m\u001b[0;34m\u001b[0m\u001b[0;34m\u001b[0m\u001b[0m\n\u001b[1;32m   1221\u001b[0m                 \u001b[0mself\u001b[0m\u001b[0;34m.\u001b[0m\u001b[0mlog\u001b[0m\u001b[0;34m.\u001b[0m\u001b[0mwarning\u001b[0m\u001b[0;34m(\u001b[0m\u001b[0;34m\"Invalid Message:\"\u001b[0m\u001b[0;34m,\u001b[0m \u001b[0mexc_info\u001b[0m\u001b[0;34m=\u001b[0m\u001b[0;32mTrue\u001b[0m\u001b[0;34m)\u001b[0m\u001b[0;34m\u001b[0m\u001b[0;34m\u001b[0m\u001b[0m\n",
            "\u001b[0;31mKeyboardInterrupt\u001b[0m: Interrupted by user"
          ]
        }
      ],
      "source": [
        "# Definición de la función\n",
        "def hllar_precio_neto(precio_libro:float)->float:\n",
        "  if(precio_libro<100_000):\n",
        "    precio_neto=precio_libro-(precio_libro*0.12)\n",
        "  else:\n",
        "    precio_neto=precio_libro-(precio_libro*0.18)\n",
        "  return precio_neto\n",
        "# Programa principal\n",
        "precio_libro=float(input(\"ingrese precio del libro:\"))\n",
        "while precio_libro>0:\n",
        "  precio_neto=hllar_precio_neto(precio_libro)\n",
        "  print(\"el precio neto es: \",precio_neto)\n",
        "  precio_libro=float(input(\"ingrese precio del libro:\"))"
      ]
    },
    {
      "cell_type": "markdown",
      "metadata": {
        "id": "jF4Qm9FE76J3"
      },
      "source": [
        "---"
      ]
    },
    {
      "cell_type": "markdown",
      "metadata": {
        "id": "weyR_q0d76J4"
      },
      "source": [
        "## Ejercicio 02\n",
        "\n",
        "Un vendedor recibe una comisión por el volumen de ventas que realice. Las reglas para asignarle la comisión al vendedor son las siguientes:\n",
        "\n",
        "Ventas | Comisión\n",
        "---|---\n",
        "Inferior a 50 mil pesos | 7% de las ventas\n",
        "Entre 50 mil y 100 mil pesos | 9% de las ventas más 5 mil pesos\n",
        "Entre 100 mil y 200 mil pesos | 11% de las ventas más 10 mil pesos\n",
        "Entre 200 mil y 500 mil pesos | 13% de las ventas más 20 mil pesos\n",
        "Más de 500 mil pesos | 15% de las ventas más 40 mil pesos\n",
        "\n",
        "* Escriba una función que recibe el valor de las ventas de un vendedor y que retorne la comisión\n",
        "* Escriba un programa que lea el valor de ventas de varios vendedores de la empresa (finalizar cuando las ventas sean negativas), y usando la función anterior, calcule la comisión y la imprima por pantalla."
      ]
    },
    {
      "cell_type": "code",
      "source": [
        "#Definición de la función\n",
        "def Valor_Ventas_Vendedor(Valor_Ventas:float)->float:\n",
        "    if Valor_Ventas < 50_000:\n",
        "        Comision = Valor_Ventas * 0.07\n",
        "    elif Valor_Ventas >= 50_000 and Valor_Ventas <= 100_000:\n",
        "        Comision = Valor_Ventas * 0.09 + 5000\n",
        "    elif Valor_Ventas > 100_000 and Valor_Ventas <= 200_000:\n",
        "        Comision = Valor_Ventas * 0.11 + 10000\n",
        "    elif Valor_Ventas > 200_000 and Valor_Ventas <= 500_000:\n",
        "        Comision = Valor_Ventas * 0.13 + 20000\n",
        "    else:\n",
        "        Comision = Valor_Ventas * 0.15 + 40000\n",
        "    return Comision\n",
        "\n",
        "#Programa Principal\n",
        "Valor_Ventas = float(input(\"Ingrese el valor de ventas: \"))\n",
        "while Valor_Ventas > 0:\n",
        "    Comision = Valor_Ventas_Vendedor(Valor_Ventas)\n",
        "    print(f\"El valor de la comisión de las ventas del vendedor es: {Comision:.2f}\")\n",
        "    Valor_Ventas = float(input(\"Ingrese el valor de ventas: \"))\n"
      ],
      "metadata": {
        "id": "Rbzmg1RIkNqp"
      },
      "execution_count": null,
      "outputs": []
    },
    {
      "cell_type": "code",
      "execution_count": null,
      "metadata": {
        "id": "kMitVJVW76J4",
        "colab": {
          "base_uri": "https://localhost:8080/"
        },
        "outputId": "8327c3eb-a9ac-4d8d-8745-68c0d5ff5274"
      },
      "outputs": [
        {
          "output_type": "stream",
          "name": "stdout",
          "text": [
            "Ingrese el valor de ventas: 100000\n",
            "El valor de la comisión de las ventas del vendedor es: 14000.00\n",
            "Ingrese el valor de ventas: 10000000\n",
            "El valor de la comisión de las ventas del vendedor es: 1540000.00\n"
          ]
        }
      ],
      "source": []
    },
    {
      "cell_type": "markdown",
      "metadata": {
        "id": "YWyFJrR876J4"
      },
      "source": [
        "---\n"
      ]
    },
    {
      "cell_type": "markdown",
      "metadata": {
        "id": "2IHUrLVh76J5"
      },
      "source": [
        "## Ejercicio 03\n",
        "\n",
        "Una empresa ofrece a sus empleados un salario mensual fijo, y un porcertaje de las ventas como una comisión adicional a ese salario mensual. Esta comisión se calcula de la siguiente manera: si las ventas de un empleado excede los 50 mil pesoso, la comisión será de un 12% de las ventas que están por encima de los 50 mil pesos, en otro caso no habrá comisión.\n",
        "\n",
        "* Primero, construya una función en la que dado las ventas que hizo el empleado, determine cuánto es la comisión\n",
        "* Ahora hay que hacer un programa que calcule y muestre los salarios y comisiones de todos los empleados de la empresa. Para cada empleado hay que preguntarle al usuario, el salario mensual y las ventas realizadas, y mostrar la comisión por las ventas (usando la función anterior) y el salario neto (salario más comisión). Como no sabemos cuántos empleados hay, después de mostrar esta información, debemos preguntarle al usuario si desea seguir o no."
      ]
    },
    {
      "cell_type": "code",
      "execution_count": null,
      "metadata": {
        "id": "aTuMvKmw76J5"
      },
      "outputs": [],
      "source": [
        "#Definición de la función_Ejercicio_3\n",
        "def Ventas_Vendedor(Valor_Ventas:float)->float:\n",
        "    if Valor_Ventas > 50_000:\n",
        "        Comision = Valor_Ventas * 0.12\n",
        "    else:\n",
        "        Comision = 0.0\n",
        "    return Comision\n",
        "\n",
        "#Programa Principal\n",
        "Valor_Ventas = float(input(\"Ingrese el valor de ventas: \"))\n",
        "Salario = float(input(\"Ingrese salario: \"))\n",
        "while Salario > 0:\n",
        "    Salario_Neto =  Ventas_Vendedor(Valor_Ventas) + Salario\n",
        "    print(f\"El salario neto del vendedor es: {Salario_Neto:.2f}\")\n",
        "\n",
        "    continuar = input(\"Desea continuar? (SI/NO): \").strip().upper()\n",
        "    if continuar == \"SI\":\n",
        "       Valor_Ventas = float(input(\"Ingrese el valor de ventas: \"))\n",
        "       Salario = float(input(\"Ingrese salario: \"))\n",
        "\n",
        "    elif continuar == \"NO\":\n",
        "       break"
      ]
    },
    {
      "cell_type": "markdown",
      "metadata": {
        "id": "6M93ZEZh76J5"
      },
      "source": [
        "---"
      ]
    },
    {
      "cell_type": "markdown",
      "metadata": {
        "id": "ge6TBY0P76J6"
      },
      "source": [
        "## Ejercicio 04\n",
        "\n",
        "En una empresa se le paga a los trabajadores al final de cada semana de acuerdo a las reglas dadas a continuación:\n",
        "\n",
        "* Si trabajas 35 horas o menos, se le paga un valor de 15 mil pesos la hora;\n",
        "* Si trabaja más de 35 horas pero menos de 60, el valor de la hora es de 15 mil por las primeras 35 horas y de 18 mil por cada hora trabajada por encima de las 35\n",
        "* Si trabaja más de 60 horas, las primeras 35 se pagan a 15 mil, las siguiente 25 horas a 18 mil cada una y las horas horas trabajadas por encima de las 60 horas, se le paga a 25 mil pesos cada una.\n",
        "\n",
        "Vamos a buscar imprimir el salario semanal de cada uno de los empleados de la empresa. Para ello:\n",
        "\n",
        "* Escriba una función que reciba el número de horas trabajadas por un empleado y retorne el salario\n",
        "* Un programa que le pregunte al usuario el número de empleados que trabajan en la empresa, y para cada uno de esos, pregunte el número de horas trabajadas en la semana, y usando la función anterior, imprima el salario mensual de ese empleado."
      ]
    },
    {
      "cell_type": "code",
      "execution_count": null,
      "metadata": {
        "id": "o8NultX076J6"
      },
      "outputs": [],
      "source": [
        "#Definición de la función_Ejercicio_4\n",
        "def Salario_Bruto(Horas_Trabajadas:int)->int:\n",
        "    Valor_Hora_Normal = 15000\n",
        "    Valor_Hora_Extra = 18000\n",
        "    Valor_Hora_Adicional = 25000\n",
        "    if Horas_Trabajadas <= 35:\n",
        "        Salario = Horas_Trabajadas * Valor_Hora_Normal\n",
        "    elif Horas_Trabajadas > 35 and Horas_Trabajadas <= 60:\n",
        "       Salario = (35 * Valor_Hora_Normal) + ((Horas_Trabajadas - 35) * Valor_Hora_Extra)\n",
        "    elif Horas_Trabajadas > 60:\n",
        "        Salario = (35 * Valor_Hora_Normal) + (25 * Valor_Hora_Extra) + ((Horas_Trabajadas - 60) * Valor_Hora_Adicional)\n",
        "    return Salario\n",
        "\n",
        "#Programa Principal\n",
        "Numero_Trabajadores = int(input(\"Ingrese el número de trabajadores: \"))\n",
        "\n",
        "for X in range(Numero_Trabajadores):\n",
        "    Horas_Trabajadas = int(input(f\"Ingrese las horas trabajadas del trabajador {X+1}: \"))\n",
        "    Salario = Salario_Bruto(Horas_Trabajadas)\n",
        "    print(f\"El salario semanal del trabajador {X+1} es: {Salario:.2f}\")\n",
        "    print(f\"El salario mensual del trabajador {X+1} es: {Salario*4:.2f}*\")"
      ]
    }
  ],
  "metadata": {
    "colab": {
      "provenance": []
    },
    "kernelspec": {
      "display_name": "Python 3",
      "language": "python",
      "name": "python3"
    },
    "language_info": {
      "codemirror_mode": {
        "name": "ipython",
        "version": 3
      },
      "file_extension": ".py",
      "mimetype": "text/x-python",
      "name": "python",
      "nbconvert_exporter": "python",
      "pygments_lexer": "ipython3",
      "version": "3.7.7"
    }
  },
  "nbformat": 4,
  "nbformat_minor": 0
}